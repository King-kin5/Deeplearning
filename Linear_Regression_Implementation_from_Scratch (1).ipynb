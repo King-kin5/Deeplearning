{
  "nbformat": 4,
  "nbformat_minor": 0,
  "metadata": {
    "colab": {
      "provenance": []
    },
    "kernelspec": {
      "name": "python3",
      "display_name": "Python 3"
    },
    "language_info": {
      "name": "python"
    }
  },
  "cells": [
    {
      "cell_type": "code",
      "execution_count": 104,
      "metadata": {
        "id": "MGZz3L5wBQP3"
      },
      "outputs": [],
      "source": [
        "import torch\n",
        "from torch.utils.data import TensorDataset, DataLoader"
      ]
    },
    {
      "cell_type": "code",
      "source": [
        "class LinearRegressionScratch:\n",
        "    \"\"\"Linear regression implemented from scratch using PyTorch tensors.\n",
        "    Usage:\n",
        "        model = LinearRegressionScratch(num_inputs)\n",
        "        y_hat = model.forward(X)\n",
        "        loss = model.loss(y_hat, y)\n",
        "    \"\"\"\n",
        "    def __init__(self, num_inputs, device=None, sigma=0.01):\n",
        "        self.device = torch.device(device or (\"cuda\" if torch.cuda.is_available() else \"cpu\"))\n",
        "        self.num_inputs = int(num_inputs)\n",
        "        # weights: shape (num_inputs, 1)\n",
        "        self.w = torch.normal(0.0, sigma, (self.num_inputs, 1), requires_grad=True, device=self.device)\n",
        "        # bias: shape (1,)\n",
        "        self.b = torch.zeros(1, requires_grad=True, device=self.device)\n",
        "\n",
        "    def forward(self, X):\n",
        "        \"\"\"Compute predictions.\n",
        "        X: tensor of shape (batch_size, num_inputs)\n",
        "        returns: tensor of shape (batch_size, 1)\n",
        "        \"\"\"\n",
        "        if X.ndim != 2 or X.shape[1] != self.num_inputs:\n",
        "            raise ValueError(f\"X must be shaped (batch_size, {self.num_inputs}), got {X.shape}\")\n",
        "        return X.matmul(self.w) + self.b\n",
        "\n",
        "    def loss(self, y_hat, y):\n",
        "        \"\"\"Mean squared error (1/2 factor) averaged over batch.\n",
        "        y_hat: (batch_size, 1)\n",
        "        y: (batch_size, 1) or (batch_size,)\n",
        "        \"\"\"\n",
        "        if y.ndim == 1:\n",
        "            y = y.view(-1, 1)\n",
        "        l = (y_hat - y) ** 2 / 2\n",
        "        return l.mean()"
      ],
      "metadata": {
        "id": "Q-E4fp4jOWId"
      },
      "execution_count": 105,
      "outputs": []
    },
    {
      "cell_type": "code",
      "source": [
        "# This cell is no longer needed as the forward method is now inside the class definition."
      ],
      "metadata": {
        "id": "eora5PHmQSTK"
      },
      "execution_count": 106,
      "outputs": []
    },
    {
      "cell_type": "markdown",
      "source": [
        "# Defining the Loss Function"
      ],
      "metadata": {
        "id": "xx2o4ZIUTXZ2"
      }
    },
    {
      "cell_type": "code",
      "source": [
        "# This cell is no longer needed as the loss method is now inside the class definition."
      ],
      "metadata": {
        "id": "W5zIQRLqSIl1"
      },
      "execution_count": 107,
      "outputs": []
    },
    {
      "cell_type": "markdown",
      "source": [
        "#  Defining the Optimization Algorithm"
      ],
      "metadata": {
        "id": "WD6cEFTfTpJO"
      }
    },
    {
      "cell_type": "code",
      "source": [
        "class SGD:\n",
        "    \"\"\"Simple minibatch stochastic gradient descent optimizer.\n",
        "\n",
        "\n",
        "    Example:\n",
        "    opt = SGD([model.w, model.b], lr=0.1)\n",
        "    loss.backward()\n",
        "    opt.step()\n",
        "    opt.zero_grad()\n",
        "    \"\"\"\n",
        "\n",
        "\n",
        "    def __init__(self, params, lr):\n",
        "        self.params = list(params)\n",
        "        self.lr = float(lr)\n",
        "\n",
        "\n",
        "    def step(self):\n",
        "        \"\"\"Update parameters in-place without tracking the update in autograd.\"\"\"\n",
        "        with torch.no_grad():\n",
        "            for p in self.params:\n",
        "                if p.grad is None:\n",
        "                    continue\n",
        "                # use p.data add_ or torch.no_grad() to avoid autograd tracking\n",
        "                p.data.add_(-self.lr * p.grad)\n",
        "\n",
        "\n",
        "    def zero_grad(self):\n",
        "        \"\"\"Zero out gradients for all parameters (if present).\"\"\"\n",
        "        for p in self.params:\n",
        "            if p.grad is not None:\n",
        "                p.grad.zero_()"
      ],
      "metadata": {
        "id": "misVtfHpTUky"
      },
      "execution_count": 108,
      "outputs": []
    },
    {
      "cell_type": "code",
      "source": [
        "def make_synthetic_data(w_true, b_true, num_samples=1000000, noise_std=0.1, device=None):\n",
        "    device = torch.device(device or (\"cuda\" if torch.cuda.is_available() else \"cpu\"))\n",
        "    num_inputs = w_true.shape[0]\n",
        "    X = torch.randn(num_samples, num_inputs, device=device)\n",
        "    y = X.matmul(w_true.view(-1, 1)) + b_true + noise_std * torch.randn(num_samples, 1, device=device)\n",
        "    return X, y"
      ],
      "metadata": {
        "id": "x4pfUH5im4mn"
      },
      "execution_count": 109,
      "outputs": []
    },
    {
      "cell_type": "code",
      "source": [
        "if __name__ == \"__main__\":\n",
        "    # hyperparameters\n",
        "    num_inputs = 3\n",
        "    true_w = torch.tensor([2.0, -1.0, 0.5])\n",
        "    true_b = torch.tensor([0.7])\n",
        "    device = torch.device(\"cuda\" if torch.cuda.is_available() else \"cpu\")\n",
        "    X, y = make_synthetic_data(true_w, true_b, num_samples=1024, noise_std=0.1, device=device)\n",
        "    # create dataset and dataloader for minibatches\n",
        "    ds = TensorDataset(X, y)\n",
        "    batch_size = 64\n",
        "    dl = DataLoader(ds, batch_size=batch_size, shuffle=True)\n",
        "    # initialize model\n",
        "    model = LinearRegressionScratch(num_inputs=num_inputs, device=device, sigma=0.01)\n",
        "    # choose optimizer: custom SGD or PyTorch's\n",
        "    use_custom_optimizer = True\n",
        "    if use_custom_optimizer:\n",
        "        opt = SGD([model.w, model.b], lr=0.9)\n",
        "    # training loop\n",
        "    n_epochs = 100\n",
        "    for epoch in range(n_epochs):\n",
        "        epoch_loss = 0.0\n",
        "        for X_batch, y_batch in dl:\n",
        "            # forward\n",
        "            y_hat = model.forward(X_batch)\n",
        "            loss = model.loss(y_hat, y_batch)\n",
        "            # backward\n",
        "            loss.backward()\n",
        "            # step\n",
        "            if use_custom_optimizer:\n",
        "                opt.step()\n",
        "                opt.zero_grad()\n",
        "            else:\n",
        "                opt.step()\n",
        "                opt.zero_grad()\n",
        "            epoch_loss += loss.item() * X_batch.size(0)\n",
        "        epoch_loss /= len(ds)\n",
        "        if (epoch + 1) % 50 == 0 or epoch == 0:\n",
        "            print(f\"Epoch {epoch+1:3d}/{n_epochs} - loss: {epoch_loss:.6f}\")\n",
        "    print(\"\\nTraining finished.\")\n",
        "    print(\"True w:\", true_w.tolist(), \"True b:\", true_b.item())\n",
        "    print(\"Learned w:\", model.w.detach().squeeze().tolist(), \"Learned b:\", model.b.item())\n",
        "    # final prediction check\n",
        "    with torch.no_grad():\n",
        "        sample_X = torch.tensor([[1.0, 2.0, -1.0]], device=device)\n",
        "        pred = model.forward(sample_X)\n",
        "        print(\"\\nSample input:\", sample_X.cpu().numpy())\n",
        "        print(\"Predicted value:\", pred.cpu().numpy())"
      ],
      "metadata": {
        "id": "nklyS8RRnjxz",
        "colab": {
          "base_uri": "https://localhost:8080/"
        },
        "outputId": "e44c7b2c-03b7-4827-fdf5-b52a4fc11f19"
      },
      "execution_count": 112,
      "outputs": [
        {
          "output_type": "stream",
          "name": "stdout",
          "text": [
            "Epoch   1/100 - loss: 0.164029\n",
            "Epoch  50/100 - loss: 0.005524\n",
            "Epoch 100/100 - loss: 0.005420\n",
            "\n",
            "Training finished.\n",
            "True w: [2.0, -1.0, 0.5] True b: 0.699999988079071\n",
            "Learned w: [1.9995328187942505, -0.9930555820465088, 0.49830710887908936] Learned b: 0.693470299243927\n",
            "\n",
            "Sample input: [[ 1.  2. -1.]]\n",
            "Predicted value: [[0.20858485]]\n"
          ]
        }
      ]
    }
  ]
}